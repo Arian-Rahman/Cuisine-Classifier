{
  "nbformat": 4,
  "nbformat_minor": 0,
  "metadata": {
    "colab": {
      "provenance": []
    },
    "kernelspec": {
      "name": "python3",
      "display_name": "Python 3"
    },
    "language_info": {
      "name": "python"
    }
  },
  "cells": [
    {
      "cell_type": "code",
      "execution_count": null,
      "metadata": {
        "colab": {
          "base_uri": "https://localhost:8080/"
        },
        "id": "ie0nwASMR1kh",
        "outputId": "0cb48283-af2e-4dc1-c03e-92cdd8df179c"
      },
      "outputs": [
        {
          "output_type": "stream",
          "name": "stdout",
          "text": [
            "/bin/bash: line 1: default-exp: command not found\n"
          ]
        }
      ],
      "source": [
        "!default-exp app"
      ]
    },
    {
      "cell_type": "code",
      "source": [
        "!pip install -Uqq fastai gradio\n",
        "\n",
        "from fastai.vision.all import load_learner\n",
        "import gradio as gr"
      ],
      "metadata": {
        "id": "6E3aFqP8SU9S",
        "colab": {
          "base_uri": "https://localhost:8080/"
        },
        "outputId": "1a4058e1-1228-4818-f42e-c33b0b81550f"
      },
      "execution_count": null,
      "outputs": [
        {
          "output_type": "stream",
          "name": "stdout",
          "text": [
            "\u001b[2K     \u001b[90m━━━━━━━━━━━━━━━━━━━━━━━━━━━━━━━━━━━━━━━━\u001b[0m \u001b[32m50.4/50.4 kB\u001b[0m \u001b[31m596.3 kB/s\u001b[0m eta \u001b[36m0:00:00\u001b[0m\n",
            "\u001b[2K   \u001b[90m━━━━━━━━━━━━━━━━━━━━━━━━━━━━━━━━━━━━━━━━\u001b[0m \u001b[32m18.1/18.1 MB\u001b[0m \u001b[31m41.8 MB/s\u001b[0m eta \u001b[36m0:00:00\u001b[0m\n",
            "\u001b[2K   \u001b[90m━━━━━━━━━━━━━━━━━━━━━━━━━━━━━━━━━━━━━━━━\u001b[0m \u001b[32m318.7/318.7 kB\u001b[0m \u001b[31m10.4 MB/s\u001b[0m eta \u001b[36m0:00:00\u001b[0m\n",
            "\u001b[2K   \u001b[90m━━━━━━━━━━━━━━━━━━━━━━━━━━━━━━━━━━━━━━━━\u001b[0m \u001b[32m94.6/94.6 kB\u001b[0m \u001b[31m5.7 MB/s\u001b[0m eta \u001b[36m0:00:00\u001b[0m\n",
            "\u001b[2K   \u001b[90m━━━━━━━━━━━━━━━━━━━━━━━━━━━━━━━━━━━━━━━━\u001b[0m \u001b[32m76.4/76.4 kB\u001b[0m \u001b[31m4.4 MB/s\u001b[0m eta \u001b[36m0:00:00\u001b[0m\n",
            "\u001b[2K   \u001b[90m━━━━━━━━━━━━━━━━━━━━━━━━━━━━━━━━━━━━━━━━\u001b[0m \u001b[32m78.0/78.0 kB\u001b[0m \u001b[31m4.5 MB/s\u001b[0m eta \u001b[36m0:00:00\u001b[0m\n",
            "\u001b[2K   \u001b[90m━━━━━━━━━━━━━━━━━━━━━━━━━━━━━━━━━━━━━━━━\u001b[0m \u001b[32m141.9/141.9 kB\u001b[0m \u001b[31m7.0 MB/s\u001b[0m eta \u001b[36m0:00:00\u001b[0m\n",
            "\u001b[2K   \u001b[90m━━━━━━━━━━━━━━━━━━━━━━━━━━━━━━━━━━━━━━━━\u001b[0m \u001b[32m10.9/10.9 MB\u001b[0m \u001b[31m56.8 MB/s\u001b[0m eta \u001b[36m0:00:00\u001b[0m\n",
            "\u001b[2K   \u001b[90m━━━━━━━━━━━━━━━━━━━━━━━━━━━━━━━━━━━━━━━━\u001b[0m \u001b[32m63.7/63.7 kB\u001b[0m \u001b[31m3.8 MB/s\u001b[0m eta \u001b[36m0:00:00\u001b[0m\n",
            "\u001b[2K   \u001b[90m━━━━━━━━━━━━━━━━━━━━━━━━━━━━━━━━━━━━━━━━\u001b[0m \u001b[32m58.3/58.3 kB\u001b[0m \u001b[31m4.0 MB/s\u001b[0m eta \u001b[36m0:00:00\u001b[0m\n",
            "\u001b[2K   \u001b[90m━━━━━━━━━━━━━━━━━━━━━━━━━━━━━━━━━━━━━━━━\u001b[0m \u001b[32m71.5/71.5 kB\u001b[0m \u001b[31m3.2 MB/s\u001b[0m eta \u001b[36m0:00:00\u001b[0m\n",
            "\u001b[2K   \u001b[90m━━━━━━━━━━━━━━━━━━━━━━━━━━━━━━━━━━━━━━━━\u001b[0m \u001b[32m130.2/130.2 kB\u001b[0m \u001b[31m6.1 MB/s\u001b[0m eta \u001b[36m0:00:00\u001b[0m\n",
            "\u001b[?25h"
          ]
        }
      ]
    },
    {
      "cell_type": "code",
      "source": [
        "from google.colab import drive\n",
        "drive.mount('/content/drive')\n",
        "%cd /content/drive/My Drive/Colab Notebooks/MasterCourse Data Science/P02_Food_Classifier/"
      ],
      "metadata": {
        "colab": {
          "base_uri": "https://localhost:8080/"
        },
        "id": "M4kOa0AVTsYm",
        "outputId": "49d5f9d9-7dd6-446e-fcc5-777a8c79b4ea"
      },
      "execution_count": null,
      "outputs": [
        {
          "output_type": "stream",
          "name": "stdout",
          "text": [
            "Mounted at /content/drive\n",
            "/content/drive/My Drive/Colab Notebooks/MasterCourse Data Science/P02_Food_Classifier\n"
          ]
        }
      ]
    },
    {
      "cell_type": "code",
      "source": [
        "cuisines = {\n",
        "    'American burger': 'American burger',\n",
        "    'American fried_chicken': 'American fried_chicken',\n",
        "    'American hot_dog': 'American hot_dog',\n",
        "    'Indian Fuchka': 'Indian Fuchka',\n",
        "    'Indian biriyani': 'Indian biriyani',\n",
        "    'Indian khichudi': 'Indian khichudi',\n",
        "    'Indian khichuri': 'Indian khichuri',\n",
        "    'Indian samosa': 'Indian samosa',\n",
        "    'Italian lasagna': 'Italian lasagna',\n",
        "    'Italian pizza': 'Italian pizza',\n",
        "    'Italian speggeti': 'Italian speggeti',\n",
        "    'Japanese okonomiyaki': 'Japanese okonomiyaki',\n",
        "    'Japanese ramen': 'Japanese ramen',\n",
        "    'Japanese sushi': 'Japanese sushi',\n",
        "    'Mexican Chilaquiles': 'Mexican Chilaquiles',\n",
        "    'Mexican nachos': 'Mexican nachos',\n",
        "    'Mexican tacos': 'Mexican tacos',\n",
        "    'Turkish baklava': 'Turkish baklava',\n",
        "    'Turkish kebab': 'Turkish kebab',\n",
        "    'Turkish meze_food': 'Turkish meze_food',\n",
        "    'Turkish swarma': 'Turkish swarma'\n",
        "}\n"
      ],
      "metadata": {
        "id": "oIkXeXm9U_QV"
      },
      "execution_count": null,
      "outputs": []
    },
    {
      "cell_type": "code",
      "source": [
        "from fastai.vision.all import *\n",
        "from PIL import Image, UnidentifiedImageError\n",
        "import os\n",
        "\n",
        "# Allowed image extensions\n",
        "valid_extensions = {'.jpeg', '.jpg', '.png'}\n",
        "\n",
        "data_path = Path(\"data\")\n",
        "\n",
        "# Define a function to get both the parent (cuisine) and the folder (dish)\n",
        "def get_labels(file_path):\n",
        "    # Get the parent folder (cuisine) and the dish folder\n",
        "    cuisine = file_path.parent.parent.name  # The top-level folder (e.g., American)\n",
        "    dish = file_path.parent.name            # The sub-folder (e.g., burger)\n",
        "    return f\"{cuisine} {dish}\"              # Combine them for a multi-label classification\n",
        "\n",
        "# Custom function to load and convert images to RGBA\n",
        "def load_image_safe(fn):\n",
        "    try:\n",
        "        img = Image.open(fn)\n",
        "        # If the image has a palette and transparency, convert it to RGBA\n",
        "        if img.mode == \"P\":\n",
        "            img = img.convert(\"RGBA\")\n",
        "        return PILImage.create(img)\n",
        "    except UnidentifiedImageError:\n",
        "        print(f\"Skipping corrupt image: {fn}\")\n",
        "        return None  # Returning None means the image will be skipped\n",
        "\n",
        "# Custom function to check if an image is valid and of a valid file type\n",
        "def valid_image_filter(fn):\n",
        "    # Check file extension\n",
        "    if not fn.suffix.lower() in valid_extensions:\n",
        "        print(f\"Skipping invalid file type: {fn}\")\n",
        "        return False  # Skip the file if it's not a valid image extension\n",
        "\n",
        "    # Check if the image can be loaded safely\n",
        "    img = load_image_safe(fn)\n",
        "    if img is None:\n",
        "        return False  # Skip the file if it's invalid\n",
        "    return True  # Keep valid images\n",
        "\n",
        "# Function to replace the lambda\n",
        "def get_valid_image(fn):\n",
        "    return fn if valid_image_filter(fn) else None\n",
        "\n",
        "# Load the DataLoaders\n",
        "dls = torch.load(\"cousine_dataloader_v1.pkl\")\n",
        "\n"
      ],
      "metadata": {
        "colab": {
          "base_uri": "https://localhost:8080/"
        },
        "id": "_B9h8kTUTjL9",
        "outputId": "bab6384b-52be-4533-97af-17584751a989"
      },
      "execution_count": null,
      "outputs": [
        {
          "output_type": "stream",
          "name": "stderr",
          "text": [
            "<ipython-input-4-6f399c9697d4>:47: FutureWarning: You are using `torch.load` with `weights_only=False` (the current default value), which uses the default pickle module implicitly. It is possible to construct malicious pickle data which will execute arbitrary code during unpickling (See https://github.com/pytorch/pytorch/blob/main/SECURITY.md#untrusted-models for more details). In a future release, the default value for `weights_only` will be flipped to `True`. This limits the functions that could be executed during unpickling. Arbitrary objects will no longer be allowed to be loaded via this mode unless they are explicitly allowlisted by the user via `torch.serialization.add_safe_globals`. We recommend you start setting `weights_only=True` for any use case where you don't have full control of the loaded file. Please open an issue on GitHub for any issues related to this experimental feature.\n",
            "  dls = torch.load(\"cousine_dataloader_v1.pkl\")\n"
          ]
        }
      ]
    },
    {
      "cell_type": "code",
      "source": [
        "def rec_img(image):\n",
        "    # Convert the image to RGB\n",
        "    image = image.convert('RGB')\n",
        "\n",
        "    pred, idx, probs = model.predict(image)\n",
        "    #cuisine_keys = dls.vocab  # Use vocab for mapping\n",
        "    food_probabilities = dict(zip(cuisines, map(float, probs)))  # Food item with probabilities\n",
        "\n",
        "    # Map food items to cuisines and sum up the probabilities per cuisine\n",
        "    cuisine_probs = {}\n",
        "    for food, prob in food_probabilities.items():\n",
        "        cuisine = cuisines[food]\n",
        "        if cuisine in cuisine_probs:\n",
        "            cuisine_probs[cuisine] += prob\n",
        "        else:\n",
        "            cuisine_probs[cuisine] = prob\n",
        "\n",
        "    return cuisine_probs"
      ],
      "metadata": {
        "id": "wa9-pR3PUqxP"
      },
      "execution_count": null,
      "outputs": []
    },
    {
      "cell_type": "code",
      "source": [
        "# #!export\n",
        "model_path = \"models\"  # Path to the saved model\n",
        "\n",
        "model = load_learner(f'models/models.pkl')\n",
        "\n",
        "\n"
      ],
      "metadata": {
        "id": "SidngjKENEg3"
      },
      "execution_count": null,
      "outputs": []
    },
    {
      "cell_type": "code",
      "source": [
        "from PIL import Image\n",
        "img = Image.open(f'test_data/2.png')\n",
        "img.thumbnail((128,128))\n",
        "img"
      ],
      "metadata": {
        "colab": {
          "base_uri": "https://localhost:8080/",
          "height": 106
        },
        "id": "dAQtFRBtVqtZ",
        "outputId": "39870b7f-4aad-4b61-f4cb-3b6d582549a1"
      },
      "execution_count": null,
      "outputs": [
        {
          "output_type": "execute_result",
          "data": {
            "text/plain": [
              "<PIL.PngImagePlugin.PngImageFile image mode=RGBA size=128x89>"
            ],
            "image/png": "[encoded data removed]"
          },
          "metadata": {},
          "execution_count": 70
        }
      ]
    },
    {
      "cell_type": "code",
      "source": [
        "rec_img(img)"
      ],
      "metadata": {
        "id": "AMN3Oq0OWpOL",
        "outputId": "af631101-1037-4cc1-b77f-0ad4fcdec915",
        "colab": {
          "base_uri": "https://localhost:8080/",
          "height": 382
        }
      },
      "execution_count": null,
      "outputs": [
        {
          "output_type": "display_data",
          "data": {
            "text/plain": [
              "<IPython.core.display.HTML object>"
            ],
            "text/html": [
              "\n",
              "<style>\n",
              "    /* Turns off some styling */\n",
              "    progress {\n",
              "        /* gets rid of default border in Firefox and Opera. */\n",
              "        border: none;\n",
              "        /* Needs to be in here for Safari polyfill so background images work as expected. */\n",
              "        background-size: auto;\n",
              "    }\n",
              "    progress:not([value]), progress:not([value])::-webkit-progress-bar {\n",
              "        background: repeating-linear-gradient(45deg, #7e7e7e, #7e7e7e 10px, #5c5c5c 10px, #5c5c5c 20px);\n",
              "    }\n",
              "    .progress-bar-interrupted, .progress-bar-interrupted::-webkit-progress-bar {\n",
              "        background: #F44336;\n",
              "    }\n",
              "</style>\n"
            ]
          },
          "metadata": {}
        },
        {
          "output_type": "display_data",
          "data": {
            "text/plain": [
              "<IPython.core.display.HTML object>"
            ],
            "text/html": []
          },
          "metadata": {}
        },
        {
          "output_type": "execute_result",
          "data": {
            "text/plain": [
              "{'American burger': 9.989832960854983e-07,\n",
              " 'American fried_chicken': 1.079355843103258e-05,\n",
              " 'American hot_dog': 0.00021261929941829294,\n",
              " 'Indian Fuchka': 0.00019826633797492832,\n",
              " 'Indian biriyani': 1.0945354915747885e-05,\n",
              " 'Indian khichudi': 5.8966499636881053e-05,\n",
              " 'Indian khichuri': 0.0004278515698388219,\n",
              " 'Indian samosa': 0.01968046836555004,\n",
              " 'Italian lasagna': 3.724894850165583e-05,\n",
              " 'Italian pizza': 7.004242797847837e-05,\n",
              " 'Italian speggeti': 9.142343515122775e-06,\n",
              " 'Japanese okonomiyaki': 2.8594386094482616e-06,\n",
              " 'Japanese ramen': 0.0003007531340699643,\n",
              " 'Japanese sushi': 0.006793067324906588,\n",
              " 'Mexican Chilaquiles': 2.106684223690536e-05,\n",
              " 'Mexican nachos': 1.5372776260846877e-06,\n",
              " 'Mexican tacos': 0.006283908616751432,\n",
              " 'Turkish baklava': 0.00028213803307153285,\n",
              " 'Turkish kebab': 0.0008110891794785857,\n",
              " 'Turkish meze_food': 0.0018616573652252555,\n",
              " 'Turkish swarma': 0.962924599647522}"
            ]
          },
          "metadata": {},
          "execution_count": 71
        }
      ]
    },
    {
      "cell_type": "code",
      "source": [
        "# !pip install gradio\n",
        "import gradio as gr\n",
        "\n",
        "# Define the image input and label output\n",
        "image = gr.Image()\n",
        "label = gr.Label(num_top_classes=3)\n",
        "\n",
        "# Create the Gradio interface with specified settings\n",
        "gr.Interface(\n",
        "    fn=rec_img,       # Your prediction function\n",
        "    inputs=image,     # Input type\n",
        "    outputs=label,    # Output type\n",
        "    live=True         # Set to True if you want to see real-time predictions\n",
        ").launch(share=True, inline=False, debug=True)  # Enable sharing and set inline to False\n"
      ],
      "metadata": {
        "id": "ZsvDJwbHSrX8",
        "colab": {
          "base_uri": "https://localhost:8080/"
        },
        "outputId": "01cf0906-77d6-407d-8c4d-e38699f29ad9"
      },
      "execution_count": null,
      "outputs": [
        {
          "output_type": "stream",
          "name": "stdout",
          "text": [
            "Colab notebook detected. This cell will run indefinitely so that you can see errors and logs. To turn off, set debug=False in launch().\n",
            "\n",
            "Could not create share link. Missing file: /usr/local/lib/python3.10/dist-packages/gradio/frpc_linux_amd64_v0.2. \n",
            "\n",
            "Please check your internet connection. This can happen if your antivirus software blocks the download of this file. You can install manually by following these steps: \n",
            "\n",
            "1. Download this file: https://cdn-media.huggingface.co/frpc-gradio-0.2/frpc_linux_amd64\n",
            "2. Rename the downloaded file to: frpc_linux_amd64_v0.2\n",
            "3. Move the file to this location: /usr/local/lib/python3.10/dist-packages/gradio\n",
            "Keyboard interruption in main thread... closing server.\n"
          ]
        },
        {
          "output_type": "execute_result",
          "data": {
            "text/plain": []
          },
          "metadata": {},
          "execution_count": 61
        }
      ]
    },
    {
      "cell_type": "code",
      "source": [],
      "metadata": {
        "id": "VgbpMAbng1m8"
      },
      "execution_count": null,
      "outputs": []
    }
  ]
}